{
 "cells": [
  {
   "cell_type": "code",
   "execution_count": null,
   "metadata": {},
   "outputs": [],
   "source": [
    "# setting warnings\n",
    "import warnings\n",
    "warnings.simplefilter(action='ignore', category=Warning)\n",
    "\n",
    "# import modules and components\n",
    "from FEXT.commons.utils.dataloader.serializer import get_images_path, DataSerializer\n",
    "from FEXT.commons.utils.validation import DataValidation\n",
    "from FEXT.commons.utils.preprocessing import DataSplit\n",
    "from FEXT.commons.pathfinder import VAL_PATH, IMG_DATA_PATH"
   ]
  },
  {
   "cell_type": "markdown",
   "metadata": {},
   "source": [
    "# Load and prepare data"
   ]
  },
  {
   "cell_type": "code",
   "execution_count": null,
   "metadata": {},
   "outputs": [],
   "source": [
    "images_paths = get_images_path(IMG_DATA_PATH, sample_size=None)\n",
    "splitter = DataSplit(images_paths)     \n",
    "train_data, validation_data, test_data = splitter.split_data() \n",
    "\n",
    "print(f'Number of train samples: {len(train_data)}')\n",
    "print(f'Number of validation samples: {len(validation_data)}')\n",
    "print(f'Number of test samples:  {len(test_data)}')"
   ]
  },
  {
   "cell_type": "markdown",
   "metadata": {},
   "source": [
    "# 1. Data evaluation"
   ]
  },
  {
   "cell_type": "markdown",
   "metadata": {},
   "source": [
    "### 1.1 Pixel intensity "
   ]
  },
  {
   "cell_type": "code",
   "execution_count": null,
   "metadata": {},
   "outputs": [],
   "source": [
    "# load train and validation images as numpy arrays\n",
    "serializer = DataSerializer()\n",
    "validator = DataValidation()\n",
    "train_images = serializer.load_images(train_data, as_tensor=False, normalize=False)\n",
    "validation_images = serializer.load_images(validation_data, as_tensor=False, normalize=False)\n",
    "\n",
    "# validate pixel intensity histograms for both datasets\n",
    "images_dictionary = {'Train' : train_images,\n",
    "                     'Validation' : validation_images}\n",
    "validator.pixel_intensity_histograms(images_dictionary, VAL_PATH)"
   ]
  }
 ],
 "metadata": {
  "kernelspec": {
   "display_name": "Aquarius",
   "language": "python",
   "name": "python3"
  },
  "language_info": {
   "codemirror_mode": {
    "name": "ipython",
    "version": 3
   },
   "file_extension": ".py",
   "mimetype": "text/x-python",
   "name": "python",
   "nbconvert_exporter": "python",
   "pygments_lexer": "ipython3",
   "version": "3.10.14"
  }
 },
 "nbformat": 4,
 "nbformat_minor": 2
}
