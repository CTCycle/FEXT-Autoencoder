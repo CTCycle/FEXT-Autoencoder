{
 "cells": [
  {
   "cell_type": "code",
   "execution_count": null,
   "metadata": {},
   "outputs": [],
   "source": [
    "# [SET KERAS BACKEND]\n",
    "import os \n",
    "os.environ[\"KERAS_BACKEND\"] = \"torch\"\n",
    "\n",
    "# [SETTING WARNINGS]\n",
    "import warnings\n",
    "warnings.simplefilter(action='ignore', category=Warning)\n",
    "\n",
    "# import modules and components\n",
    "from FEXT.commons.utils.dataloader.serializer import get_images_path, DataSerializer\n",
    "from FEXT.commons.utils.validation import DataValidation\n",
    "from FEXT.commons.utils.preprocessing import DataSplit\n",
    "from FEXT.commons.constants import RESULTS_PATH, IMG_DATA_PATH\n",
    "from FEXT.commons.logger import logger"
   ]
  },
  {
   "cell_type": "markdown",
   "metadata": {},
   "source": [
    "# Load and prepare data"
   ]
  },
  {
   "cell_type": "code",
   "execution_count": null,
   "metadata": {},
   "outputs": [],
   "source": [
    "images_paths = get_images_path(IMG_DATA_PATH, sample_size=None)\n",
    "splitter = DataSplit(images_paths)     \n",
    "train_data, validation_data = splitter.split_data() \n",
    "\n",
    "logger.info(f'Number of train samples: {len(train_data)}')\n",
    "logger.info(f'Number of validation samples: {len(validation_data)}')"
   ]
  },
  {
   "cell_type": "markdown",
   "metadata": {},
   "source": [
    "# 1. Data evaluation"
   ]
  },
  {
   "cell_type": "markdown",
   "metadata": {},
   "source": [
    "### 1.1 Pixel intensity "
   ]
  },
  {
   "cell_type": "code",
   "execution_count": null,
   "metadata": {},
   "outputs": [],
   "source": [
    "# load train and validation images as numpy arrays\n",
    "serializer = DataSerializer()\n",
    "validator = DataValidation()\n",
    "train_images = [serializer.load_image(img, as_tensor=False) for img in train_data]\n",
    "validation_images = [serializer.load_image(img, as_tensor=False) for img in validation_data]\n",
    "\n",
    "# validate pixel intensity histograms for both datasets\n",
    "images_dictionary = {'Train' : train_images, 'Validation' : validation_images}\n",
    "validator.pixel_intensity_histograms(images_dictionary, RESULTS_PATH)"
   ]
  }
 ],
 "metadata": {
  "kernelspec": {
   "display_name": "Aquarius",
   "language": "python",
   "name": "python3"
  },
  "language_info": {
   "codemirror_mode": {
    "name": "ipython",
    "version": 3
   },
   "file_extension": ".py",
   "mimetype": "text/x-python",
   "name": "python",
   "nbconvert_exporter": "python",
   "pygments_lexer": "ipython3",
   "version": "3.11.0"
  }
 },
 "nbformat": 4,
 "nbformat_minor": 2
}
