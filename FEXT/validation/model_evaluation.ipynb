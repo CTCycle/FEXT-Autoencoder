{
 "cells": [
  {
   "cell_type": "code",
   "execution_count": 1,
   "metadata": {},
   "outputs": [],
   "source": [
    "import os\n",
    "from tensorflow import keras\n",
    "\n",
    "# set warnings\n",
    "import warnings\n",
    "warnings.simplefilter(action='ignore', category=Warning)\n",
    "\n",
    "# import modules and components\n",
    "from FEXT.commons.utils.dataloader.generators import build_tensor_dataset\n",
    "from FEXT.commons.utils.dataloader.serializer import DataSerializer, ModelSerializer\n",
    "from FEXT.commons.utils.validation import ModelValidation\n",
    "from FEXT.commons.constants import CONFIG\n",
    "from FEXT.commons.logger import logger"
   ]
  },
  {
   "cell_type": "markdown",
   "metadata": {},
   "source": [
    "# 1. Load data and model"
   ]
  },
  {
   "cell_type": "code",
   "execution_count": 3,
   "metadata": {},
   "outputs": [
    {
     "name": "stderr",
     "output_type": "stream",
     "text": [
      "ERROR - No pretrained model found in the specified path\n"
     ]
    },
    {
     "ename": "AttributeError",
     "evalue": "'ModelSerializer' object has no attribute 'loaded_model_folder'",
     "output_type": "error",
     "traceback": [
      "\u001b[1;31m---------------------------------------------------------------------------\u001b[0m",
      "\u001b[1;31mAttributeError\u001b[0m                            Traceback (most recent call last)",
      "Cell \u001b[1;32mIn[3], line 3\u001b[0m\n\u001b[0;32m      1\u001b[0m \u001b[38;5;66;03m# selected and load the pretrained model, then print the summary \u001b[39;00m\n\u001b[0;32m      2\u001b[0m modelserializer \u001b[38;5;241m=\u001b[39m ModelSerializer()         \n\u001b[1;32m----> 3\u001b[0m model, parameters \u001b[38;5;241m=\u001b[39m \u001b[43mmodelserializer\u001b[49m\u001b[38;5;241;43m.\u001b[39;49m\u001b[43mload_pretrained_model\u001b[49m\u001b[43m(\u001b[49m\u001b[43m)\u001b[49m\n\u001b[0;32m      4\u001b[0m model_folder \u001b[38;5;241m=\u001b[39m modelserializer\u001b[38;5;241m.\u001b[39mloaded_model_folder\n\u001b[0;32m      5\u001b[0m model\u001b[38;5;241m.\u001b[39msummary(expand_nested\u001b[38;5;241m=\u001b[39m\u001b[38;5;28;01mTrue\u001b[39;00m)\n",
      "File \u001b[1;32mc:\\users\\thomas v\\libreria personale\\ai project 080724\\projects\\computer vision\\fext autoencoder\\FEXT\\commons\\utils\\dataloader\\serializer.py:212\u001b[0m, in \u001b[0;36mModelSerializer.load_pretrained_model\u001b[1;34m(self)\u001b[0m\n\u001b[0;32m    209\u001b[0m     logger\u001b[38;5;241m.\u001b[39minfo(\u001b[38;5;124m'\u001b[39m\u001b[38;5;124mLoading pretrained model directly as only one is available\u001b[39m\u001b[38;5;124m'\u001b[39m)\n\u001b[0;32m    210\u001b[0m     \u001b[38;5;28mself\u001b[39m\u001b[38;5;241m.\u001b[39mloaded_model_folder \u001b[38;5;241m=\u001b[39m os\u001b[38;5;241m.\u001b[39mpath\u001b[38;5;241m.\u001b[39mjoin(CHECKPOINT_PATH, model_folders[\u001b[38;5;241m0\u001b[39m])                 \n\u001b[1;32m--> 212\u001b[0m model_path \u001b[38;5;241m=\u001b[39m os\u001b[38;5;241m.\u001b[39mpath\u001b[38;5;241m.\u001b[39mjoin(\u001b[38;5;28;43mself\u001b[39;49m\u001b[38;5;241;43m.\u001b[39;49m\u001b[43mloaded_model_folder\u001b[49m, \u001b[38;5;124m'\u001b[39m\u001b[38;5;124mmodel\u001b[39m\u001b[38;5;124m'\u001b[39m) \n\u001b[0;32m    213\u001b[0m model \u001b[38;5;241m=\u001b[39m tf\u001b[38;5;241m.\u001b[39mkeras\u001b[38;5;241m.\u001b[39mmodels\u001b[38;5;241m.\u001b[39mload_model(model_path)\n\u001b[0;32m    215\u001b[0m \u001b[38;5;66;03m# load configuration data from .json file in checkpoint folder\u001b[39;00m\n",
      "\u001b[1;31mAttributeError\u001b[0m: 'ModelSerializer' object has no attribute 'loaded_model_folder'"
     ]
    }
   ],
   "source": [
    "# selected and load the pretrained model, then print the summary \n",
    "modelserializer = ModelSerializer()         \n",
    "model, parameters = modelserializer.load_pretrained_model()\n",
    "model_folder = modelserializer.loaded_model_folder\n",
    "model.summary(expand_nested=True)\n",
    "\n",
    "# isolate the encoder from the autoencoder model, and use it for inference     \n",
    "encoder_input = model.get_layer('input_1')  \n",
    "encoder_output = model.get_layer('fe_xt_encoder')  \n",
    "encoder_model = keras.Model(inputs=encoder_input.input, outputs=encoder_output.output)"
   ]
  },
  {
   "cell_type": "markdown",
   "metadata": {},
   "source": [
    "### 1.1 Create generator and datasets"
   ]
  },
  {
   "cell_type": "code",
   "execution_count": null,
   "metadata": {},
   "outputs": [],
   "source": [
    "# extract paths\n",
    "dataserializer = DataSerializer()\n",
    "processed_img_path = dataserializer.load_preprocessed_data(model_folder) \n",
    "\n",
    "# initialize the TensorDataSet class with the generator instances\n",
    "# create the tf.datasets using the previously initialized generators    \n",
    "train_dataset = build_tensor_dataset(processed_img_path['train'])\n",
    "validation_dataset = build_tensor_dataset(processed_img_path['validation']) "
   ]
  },
  {
   "cell_type": "markdown",
   "metadata": {},
   "source": [
    "# 2. Model performance evaluation"
   ]
  },
  {
   "cell_type": "markdown",
   "metadata": {},
   "source": [
    "### 2.1 Evaluation of loss and metrics"
   ]
  },
  {
   "cell_type": "code",
   "execution_count": null,
   "metadata": {},
   "outputs": [],
   "source": [
    "validator = ModelValidation(model)\n",
    "\n",
    "# create subfolder for evaluation data\n",
    "model_eval_path = os.path.join(model_folder, 'evaluation') \n",
    "os.mkdir(model_eval_path) if not os.path.exists(model_eval_path) else None\n",
    "\n",
    "# evaluate the model on both the train and test dataset\n",
    "eval_batch_size = CONFIG[\"evaluation\"][\"BATCH_SIZE\"]\n",
    "train_eval = model.evaluate(train_dataset, batch_size=eval_batch_size, verbose=1)\n",
    "validation_eval = model.evaluate(validation_dataset, batch_size=eval_batch_size, verbose=1)\n",
    "\n",
    "logger.info('Train dataset:')\n",
    "logger.info(f'Loss: {train_eval[0]}')    \n",
    "logger.info(f'Metric: {train_eval[1]}')  \n",
    "logger.info('Test dataset:')\n",
    "logger.info(f'Loss: {validation_eval[0]}')    \n",
    "logger.info(f'Metric: {validation_eval[1]}') "
   ]
  },
  {
   "cell_type": "markdown",
   "metadata": {},
   "source": [
    "### 2.2 Reconstruction evaluation\n",
    "\n",
    "Compare reconstructed images to original pictures to qualitatively evaluate the performance of the FeXT autoencoder model"
   ]
  },
  {
   "cell_type": "code",
   "execution_count": null,
   "metadata": {},
   "outputs": [],
   "source": [
    "# perform visual validation for the train dataset (initialize a validation tf.dataset\n",
    "# with batch size of 10 images)\n",
    "logger.info('Visual reconstruction evaluation: train dataset')\n",
    "plot_name = 'visual_evaluation_train'\n",
    "train_batch = train_dataset.unbatch().batch(10).take(1)\n",
    "for images, labels in train_batch:\n",
    "    recostructed_images = model.predict(images, verbose=0)\n",
    "    validator.visualize_reconstructed_images(images, recostructed_images, plot_name, model_eval_path)\n",
    "\n",
    "# perform visual validation for the test dataset (initialize a validation tf.dataset\n",
    "# with batch size of 10 images)\n",
    "logger.info('Visual reconstruction evaluation: validation dataset')\n",
    "plot_name = 'visual_evaluation_val'\n",
    "validation_batch = validation_dataset.unbatch().batch(10).take(1)\n",
    "for images, labels in validation_batch:\n",
    "    recostructed_images = model.predict(images, verbose=0) \n",
    "    validator.visualize_reconstructed_images(images, recostructed_images, plot_name, model_eval_path)"
   ]
  },
  {
   "cell_type": "markdown",
   "metadata": {},
   "source": [
    "Visualize the original image and the reconstructed images, together with the corresponding features vector. The raw vector has shape 4x4x512 and is reshaped to be 64x128"
   ]
  },
  {
   "cell_type": "code",
   "execution_count": null,
   "metadata": {},
   "outputs": [],
   "source": [
    "single_image_batch = train_dataset.unbatch().batch(1).take(1)\n",
    "\n",
    "# isolate the encoder from the autoencoder model\n",
    "encoder_input = model.get_layer('input_1')  \n",
    "encoder_output = model.get_layer('fe_xt_encoder')  \n",
    "encoder_model = keras.Model(inputs=encoder_input.input, outputs=encoder_output.output)\n",
    "\n",
    "# extract features vector\n",
    "recostructed_image = model.predict(single_image_batch, verbose=0) \n",
    "extracted_features = encoder_model.predict(single_image_batch, verbose=0)\n",
    "reshaped_features = extracted_features.reshape(64, 128)\n",
    "\n",
    "plot_name = 'visual_features_vector'\n",
    "for original_image, label in single_image_batch:\n",
    "    validator.visualize_features_vector(original_image, reshaped_features, recostructed_image, plot_name , model_eval_path)"
   ]
  }
 ],
 "metadata": {
  "kernelspec": {
   "display_name": "Aquarius",
   "language": "python",
   "name": "python3"
  },
  "language_info": {
   "codemirror_mode": {
    "name": "ipython",
    "version": 3
   },
   "file_extension": ".py",
   "mimetype": "text/x-python",
   "name": "python",
   "nbconvert_exporter": "python",
   "pygments_lexer": "ipython3",
   "version": "3.10.14"
  }
 },
 "nbformat": 4,
 "nbformat_minor": 2
}
