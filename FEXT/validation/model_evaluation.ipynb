{
 "cells": [
  {
   "cell_type": "code",
   "execution_count": null,
   "metadata": {},
   "outputs": [],
   "source": [
    "# set Keras backend \n",
    "import os \n",
    "os.environ[\"KERAS_BACKEND\"] = \"torch\"\n",
    "os.environ['TF_CPP_MIN_LOG_LEVEL'] = '3'\n",
    "\n",
    "import numpy as np\n",
    "\n",
    "# set warnings\n",
    "import warnings\n",
    "warnings.simplefilter(action='ignore', category=Warning)\n",
    "\n",
    "# import modules and components\n",
    "from FEXT.commons.utils.dataloader.generators import ML_model_dataloader\n",
    "from FEXT.commons.utils.dataloader.serializer import DataSerializer, ModelSerializer\n",
    "from FEXT.commons.utils.learning.inference import ImageEncoding\n",
    "from FEXT.commons.utils.validation.images import ImageReconstruction\n",
    "from FEXT.commons.utils.validation.checkpoints import ModelEvaluationSummary\n",
    "from FEXT.commons.utils.validation.reports import evaluation_report\n",
    "from FEXT.commons.constants import CONFIG"
   ]
  },
  {
   "cell_type": "markdown",
   "metadata": {},
   "source": [
    "## Generate evaluation summary for all checkpoints"
   ]
  },
  {
   "cell_type": "code",
   "execution_count": null,
   "metadata": {},
   "outputs": [],
   "source": [
    "summarizer = ModelEvaluationSummary()\n",
    "checkpoints_summary = summarizer.checkpoints_summary()"
   ]
  },
  {
   "cell_type": "markdown",
   "metadata": {},
   "source": [
    "## Load data and model\n",
    "\n",
    "---\n"
   ]
  },
  {
   "cell_type": "code",
   "execution_count": null,
   "metadata": {},
   "outputs": [],
   "source": [
    "# selected and load the pretrained model, then print the summary \n",
    "modelserializer = ModelSerializer()         \n",
    "model, configuration, history, checkpoint_path = modelserializer.select_and_load_checkpoint()\n",
    "model.summary(expand_nested=True)\n",
    "\n",
    "# isolate the encoder from the autoencoder model, and use it for inference     \n",
    "encoder = ImageEncoding(model, configuration)\n",
    "encoder_model = encoder.encoder_model"
   ]
  },
  {
   "cell_type": "code",
   "execution_count": 4,
   "metadata": {},
   "outputs": [],
   "source": [
    "# extract paths\n",
    "dataserializer = DataSerializer(configuration)\n",
    "train_data, validation_data = dataserializer.load_preprocessed_data(checkpoint_path)\n",
    "\n",
    "# initialize the TensorDataSet class with the generator instances\n",
    "# create the tf.datasets using the previously initialized generators    \n",
    "eval_batch_size = CONFIG[\"evaluation\"][\"BATCH_SIZE\"]\n",
    "train_dataset, validation_dataset = ML_model_dataloader(train_data, validation_data, configuration,\n",
    "                                                           batch_size=eval_batch_size)"
   ]
  },
  {
   "cell_type": "markdown",
   "metadata": {},
   "source": [
    "# Model performance evaluation\n",
    "\n",
    "---\n"
   ]
  },
  {
   "cell_type": "markdown",
   "metadata": {},
   "source": [
    "### Evaluation of loss and metrics\n",
    "\n",
    "We use huber loss for the Convolutional Auto Encoder (CAE) and cosine similarity as a metric to evaluate similarity between input and reconstructed output."
   ]
  },
  {
   "cell_type": "code",
   "execution_count": null,
   "metadata": {},
   "outputs": [],
   "source": [
    "evaluation_report(model, train_dataset, validation_dataset) "
   ]
  },
  {
   "cell_type": "markdown",
   "metadata": {},
   "source": [
    "### Reconstruction evaluation\n",
    "\n",
    "Compare reconstructed images to original pictures to qualitatively evaluate the performance of the FeXT autoencoder model"
   ]
  },
  {
   "cell_type": "code",
   "execution_count": null,
   "metadata": {},
   "outputs": [],
   "source": [
    "# initialize the TensorDataSet class with the generator instances\n",
    "# create the tf.datasets using the previously initialized generators    \n",
    "train_dataset, validation_dataset = ML_model_dataloader(train_data, validation_data, configuration, batch_size=6)\n",
    "\n",
    "# perform visual validation for the train dataset (initialize a validation tf.dataset\n",
    "# with batch size of 10 images)\n",
    "validator = ImageReconstruction(model)\n",
    "validator.visualize_reconstructed_images(train_dataset, 'visual_evaluation_train', checkpoint_path)\n",
    "validator.visualize_reconstructed_images(validation_dataset, 'visual_evaluation_val', checkpoint_path)"
   ]
  },
  {
   "cell_type": "markdown",
   "metadata": {},
   "source": [
    "Visualize the original image and the reconstructed images, together with the corresponding features vector. The raw vector has shape 4x4x512 and is reshaped to be 64x128"
   ]
  },
  {
   "cell_type": "code",
   "execution_count": null,
   "metadata": {},
   "outputs": [],
   "source": [
    "train_dataset, validation_dataset = ML_model_dataloader(train_data, validation_data, configuration, batch_size=1)\n",
    "train_batch = train_dataset.take(1)\n",
    "\n",
    "# extract features vector\n",
    "recostructed_image = model.predict(train_batch, verbose=0)\n",
    "extracted_features = encoder_model.predict(train_batch, verbose=0)\n",
    "\n",
    "for (original_image, label), reshaped, reconstructed in zip(train_batch, extracted_features, recostructed_image):    \n",
    "    validator.visualize_features_vector(np.squeeze(original_image), reshaped, np.squeeze(reconstructed), checkpoint_path)"
   ]
  }
 ],
 "metadata": {
  "kernelspec": {
   "display_name": "openkeras",
   "language": "python",
   "name": "python3"
  },
  "language_info": {
   "codemirror_mode": {
    "name": "ipython",
    "version": 3
   },
   "file_extension": ".py",
   "mimetype": "text/x-python",
   "name": "python",
   "nbconvert_exporter": "python",
   "pygments_lexer": "ipython3",
   "version": "3.11.11"
  }
 },
 "nbformat": 4,
 "nbformat_minor": 2
}
