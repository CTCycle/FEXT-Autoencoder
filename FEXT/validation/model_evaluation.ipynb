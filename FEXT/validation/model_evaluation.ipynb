{
 "cells": [
  {
   "cell_type": "code",
   "execution_count": null,
   "metadata": {},
   "outputs": [],
   "source": [
    "# set Keras backend \n",
    "import os \n",
    "os.environ[\"KERAS_BACKEND\"] = \"torch\"\n",
    "os.environ['TF_CPP_MIN_LOG_LEVEL'] = '3'\n",
    "\n",
    "import numpy as np\n",
    "import random\n",
    "\n",
    "# set warnings\n",
    "import warnings\n",
    "warnings.simplefilter(action='ignore', category=Warning)\n",
    "\n",
    "# import modules and components\n",
    "from FEXT.commons.utils.dataloader.generators import ML_model_dataloader\n",
    "from FEXT.commons.utils.dataloader.serializer import DataSerializer, ModelSerializer\n",
    "from FEXT.commons.utils.learning.inference import ImageEncoding\n",
    "from FEXT.commons.utils.validation.images import ImageReconstruction\n",
    "from FEXT.commons.utils.validation.checkpoints import ModelEvaluationSummary\n",
    "from FEXT.commons.utils.validation.reports import evaluation_report"
   ]
  },
  {
   "cell_type": "markdown",
   "metadata": {},
   "source": [
    "## Generate evaluation summary for all checkpoints\n",
    "\n",
    "---\n",
    "\n",
    "Generate a summary of all checkpoints and their hyperparameters"
   ]
  },
  {
   "cell_type": "code",
   "execution_count": 2,
   "metadata": {},
   "outputs": [],
   "source": [
    "summarizer = ModelEvaluationSummary()\n",
    "checkpoints_summary = summarizer.checkpoints_summary()"
   ]
  },
  {
   "cell_type": "markdown",
   "metadata": {},
   "source": [
    "## Load data and model\n",
    "\n",
    "---\n",
    "\n",
    "Load the model from available checkpoints. If only a single checkpoint is available, it will be automatically loaded. Once the full model is deserialized, the encoder component will be isolated to process images and evaluate the reconstruction error.\n"
   ]
  },
  {
   "cell_type": "code",
   "execution_count": null,
   "metadata": {},
   "outputs": [],
   "source": [
    "# selected and load the pretrained model, then print the summary \n",
    "modelserializer = ModelSerializer()         \n",
    "model, configuration, history, checkpoint_path = modelserializer.select_and_load_checkpoint()\n",
    "model.summary(expand_nested=True)\n",
    "\n",
    "# isolate the encoder from the autoencoder model, and use it for inference     \n",
    "encoder = ImageEncoding(model, configuration)\n",
    "encoder_model = encoder.encoder_model"
   ]
  },
  {
   "cell_type": "code",
   "execution_count": 4,
   "metadata": {},
   "outputs": [],
   "source": [
    "evaluation_batch_size = 30\n",
    "num_images_to_evaluate = 10"
   ]
  },
  {
   "cell_type": "code",
   "execution_count": 5,
   "metadata": {},
   "outputs": [],
   "source": [
    "dataserializer = DataSerializer(configuration)\n",
    "train_data, validation_data = dataserializer.load_preprocessed_data(checkpoint_path)\n",
    "train_images_batch = [dataserializer.load_image(path) for path in random.sample(train_data, num_images_to_evaluate)]\n",
    "validation_images_batch = [dataserializer.load_image(path) for path in random.sample(validation_data, num_images_to_evaluate)]"
   ]
  },
  {
   "cell_type": "markdown",
   "metadata": {},
   "source": [
    "# Model performance evaluation\n",
    "\n",
    "---\n"
   ]
  },
  {
   "cell_type": "markdown",
   "metadata": {},
   "source": [
    "### Evaluation of loss and metrics\n",
    "\n",
    "We use huber loss for the Convolutional Auto Encoder (CAE) and cosine similarity as a metric to evaluate similarity between input and reconstructed output. \n",
    "\n",
    "$$\n",
    "\\text{Cosine Similarity} = \\frac{\\mathbf{A} \\cdot \\mathbf{B}}{\\|\\mathbf{A}\\| \\|\\mathbf{B}\\|}\n",
    "$$\n",
    "\n",
    "A cosine similarity value closer to **1** indicates that the original and reconstructed images are highly simil"
   ]
  },
  {
   "cell_type": "code",
   "execution_count": null,
   "metadata": {},
   "outputs": [],
   "source": [
    "train_dataset, validation_dataset = ML_model_dataloader(train_data, validation_data, configuration, evaluation_batch_size)\n",
    "evaluation_report(model, train_dataset, validation_dataset) "
   ]
  },
  {
   "cell_type": "markdown",
   "metadata": {},
   "source": [
    "### Reconstruction evaluation\n",
    "\n",
    "Compare reconstructed images to original pictures to qualitatively evaluate the performance of the FeXT autoencoder model."
   ]
  },
  {
   "cell_type": "code",
   "execution_count": null,
   "metadata": {},
   "outputs": [],
   "source": [
    "validator = ImageReconstruction(model)\n",
    "print('Visualize images recontructed from train dataset')\n",
    "validator.visualize_reconstructed_images(train_images_batch)"
   ]
  },
  {
   "cell_type": "code",
   "execution_count": null,
   "metadata": {},
   "outputs": [],
   "source": [
    "print('Visualize images recontructed from validation dataset')\n",
    "validator.visualize_reconstructed_images(validation_images_batch)"
   ]
  },
  {
   "cell_type": "markdown",
   "metadata": {},
   "source": [
    "Visualize the original image and the reconstructed images, together with the corresponding features vector. The raw vector has shape 4x4x512 and is reshaped to be 64x128"
   ]
  },
  {
   "cell_type": "code",
   "execution_count": null,
   "metadata": {},
   "outputs": [],
   "source": [
    "train_dataset, validation_dataset = ML_model_dataloader(train_data, validation_data, configuration, batch_size=1)\n",
    " \n",
    "validator.visualize_latent_space(model, train_dataset, checkpoint_path, method='PCA', \n",
    "                                 n_components=3, num_images=num_images_to_evaluate)"
   ]
  }
 ],
 "metadata": {
  "kernelspec": {
   "display_name": "openkeras",
   "language": "python",
   "name": "python3"
  },
  "language_info": {
   "codemirror_mode": {
    "name": "ipython",
    "version": 3
   },
   "file_extension": ".py",
   "mimetype": "text/x-python",
   "name": "python",
   "nbconvert_exporter": "python",
   "pygments_lexer": "ipython3",
   "version": "3.11.11"
  }
 },
 "nbformat": 4,
 "nbformat_minor": 2
}
