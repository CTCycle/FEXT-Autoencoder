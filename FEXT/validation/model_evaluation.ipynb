{
 "cells": [
  {
   "cell_type": "code",
   "execution_count": null,
   "metadata": {},
   "outputs": [],
   "source": [
    "import os\n",
    "from tensorflow import keras\n",
    "\n",
    "# set warnings\n",
    "import warnings\n",
    "warnings.simplefilter(action='ignore', category=Warning)\n",
    "\n",
    "# import modules and components\n",
    "from FEXT.commons.utils.dataloader.generators import build_tensor_dataset\n",
    "from FEXT.commons.utils.dataloader.serializer import DataSerializer, ModelSerializer\n",
    "from FEXT.commons.utils.models.inferencer import FeatureExtractor\n",
    "from FEXT.commons.utils.validation import ModelValidation"
   ]
  },
  {
   "cell_type": "markdown",
   "metadata": {},
   "source": [
    "# 1. Load data and model"
   ]
  },
  {
   "cell_type": "code",
   "execution_count": null,
   "metadata": {},
   "outputs": [],
   "source": [
    "# selected and load the pretrained model, then print the summary \n",
    "modelserializer = ModelSerializer()         \n",
    "model, parameters = modelserializer.load_pretrained_model()\n",
    "model_folder = modelserializer.loaded_model_folder\n",
    "model.summary(expand_nested=True)\n",
    "\n",
    "# isolate the encoder from the autoencoder model, and use it for inference     \n",
    "encoder_input = model.get_layer('input_1')  \n",
    "encoder_output = model.get_layer('fe_xt_encoder')  \n",
    "encoder_model = keras.Model(inputs=encoder_input.input, \n",
    "                            outputs=encoder_output.output)"
   ]
  },
  {
   "cell_type": "markdown",
   "metadata": {},
   "source": [
    "### 1.1 Create generator and datasets"
   ]
  },
  {
   "cell_type": "code",
   "execution_count": null,
   "metadata": {},
   "outputs": [],
   "source": [
    "# extract paths\n",
    "dataserializer = DataSerializer()\n",
    "processed_img_path = dataserializer.load_preprocessed_data(model_folder) \n",
    "\n",
    "# initialize the TensorDataSet class with the generator instances\n",
    "# create the tf.datasets using the previously initialized generators    \n",
    "train_dataset = build_tensor_dataset(processed_img_path['train'])\n",
    "validation_dataset = build_tensor_dataset(processed_img_path['validation'])\n",
    "test_dataset = build_tensor_dataset(processed_img_path['test'])  "
   ]
  },
  {
   "cell_type": "markdown",
   "metadata": {},
   "source": [
    "# 2. Model performance evaluation"
   ]
  },
  {
   "cell_type": "markdown",
   "metadata": {},
   "source": [
    "### 2.1 Evaluation of loss and metrics"
   ]
  },
  {
   "cell_type": "code",
   "execution_count": null,
   "metadata": {},
   "outputs": [],
   "source": [
    "validator = ModelValidation(model)\n",
    "\n",
    "# create subfolder for evaluation data\n",
    "eRESULTS_PATH = os.path.join(model_folder, 'evaluation') \n",
    "os.mkdir(eRESULTS_PATH) if not os.path.exists(eRESULTS_PATH) else None\n",
    "\n",
    "# evluate the model on both the train and test dataset\n",
    "train_eval = model.evaluate(train_dataset, batch_size=25, verbose=1)\n",
    "validation_eval = model.evaluate(validation_dataset, batch_size=25, verbose=1)\n",
    "\n",
    "print('\\nTrain dataset:')\n",
    "print(f'Loss: {train_eval[0]}')    \n",
    "print(f'Metric: {train_eval[1]}')  \n",
    "print('\\nTest dataset:')\n",
    "print(f'Loss: {validation_eval[0]}')    \n",
    "print(f'Metric: {validation_eval[1]}') "
   ]
  },
  {
   "cell_type": "markdown",
   "metadata": {},
   "source": [
    "### 2.2 Reconstruction evaluation\n",
    "\n",
    "Compare reconstructed images to original pictures to qualitatively evaluate the performance of the FeXT autoencoder model"
   ]
  },
  {
   "cell_type": "code",
   "execution_count": null,
   "metadata": {},
   "outputs": [],
   "source": [
    "# perform visual validation for the train dataset (initialize a validation tf.dataset\n",
    "# with batch size of 10 images)\n",
    "print('Visual reconstruction validation: train dataset\\n')\n",
    "plot_name = 'visual_evaluation_train'\n",
    "train_batch = train_dataset.unbatch().batch(10).take(1)\n",
    "for images, labels in train_batch:\n",
    "    recostructed_images = model.predict(images, verbose=0)\n",
    "    validator.visualize_reconstructed_images(images, recostructed_images, plot_name, eRESULTS_PATH)\n",
    "\n",
    "# perform visual validation for the test dataset (initialize a validation tf.dataset\n",
    "# with batch size of 10 images)\n",
    "print('Visual reconstruction validation: test dataset\\n')\n",
    "plot_name = 'visual_evaluation_val'\n",
    "validation_batch = validation_dataset.unbatch().batch(10).take(1)\n",
    "for images, labels in validation_batch:\n",
    "    recostructed_images = model.predict(images, verbose=0) \n",
    "    validator.visualize_reconstructed_images(images, recostructed_images, plot_name, eRESULTS_PATH)"
   ]
  },
  {
   "cell_type": "markdown",
   "metadata": {},
   "source": [
    "Visualize the original image and the reconstructed images, together with the corresponding features vector. The raw vector has shape 4x4x512 and is reshaped to be 64x512"
   ]
  },
  {
   "cell_type": "code",
   "execution_count": null,
   "metadata": {},
   "outputs": [],
   "source": [
    "single_image_batch = train_dataset.unbatch().batch(1).take(1)\n",
    "\n",
    "# isolate the encoder from the autoencoder model\n",
    "encoder_input = model.get_layer('input_1')  \n",
    "encoder_output = model.get_layer('fe_xt_encoder')  \n",
    "encoder_model = keras.Model(inputs=encoder_input.input, outputs=encoder_output.output)\n",
    "\n",
    "# extract features vector\n",
    "recostructed_image = model.predict(single_image_batch, verbose=0) \n",
    "extracted_features = encoder_model.predict(single_image_batch, verbose=0)\n",
    "reshaped_features = extracted_features.reshape(64, 512)\n",
    "\n",
    "plot_name = 'visual_features_vector'\n",
    "for original_image, label in single_image_batch:\n",
    "    validator.visualize_features_vector(original_image, reshaped_features, recostructed_image,\n",
    "                                        plot_name , eRESULTS_PATH)"
   ]
  },
  {
   "cell_type": "code",
   "execution_count": null,
   "metadata": {},
   "outputs": [],
   "source": [
    "# extract features from images using the encoder output    \n",
    "extractor = FeatureExtractor(model)\n",
    "train_features = extractor.extract_from_encoder(processed_img_path['train'], parameters)\n",
    "val_features = extractor.extract_from_encoder(processed_img_path['validation'], model)"
   ]
  }
 ],
 "metadata": {
  "kernelspec": {
   "display_name": "Aquarius",
   "language": "python",
   "name": "python3"
  },
  "language_info": {
   "codemirror_mode": {
    "name": "ipython",
    "version": 3
   },
   "file_extension": ".py",
   "mimetype": "text/x-python",
   "name": "python",
   "nbconvert_exporter": "python",
   "pygments_lexer": "ipython3",
   "version": "3.10.14"
  }
 },
 "nbformat": 4,
 "nbformat_minor": 2
}
