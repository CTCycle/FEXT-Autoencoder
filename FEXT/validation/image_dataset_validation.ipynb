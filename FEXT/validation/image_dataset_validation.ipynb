{
 "cells": [
  {
   "cell_type": "code",
   "execution_count": null,
   "metadata": {},
   "outputs": [],
   "source": [
    "import numpy as np\n",
    "import matplotlib.pyplot as plt\n",
    "from tqdm import tqdm\n",
    "\n",
    "# [SETTING WARNINGS]\n",
    "import warnings\n",
    "warnings.simplefilter(action='ignore', category=Warning)\n",
    "\n",
    "# import modules and components\n",
    "from FEXT.commons.utils.validation.images import ImageAnalysis\n",
    "from FEXT.commons.utils.dataloader.serializer import DataSerializer\n",
    "from FEXT.commons.utils.process.splitting import TrainValidationSplit\n",
    "from FEXT.commons.constants import CONFIG, IMG_DATA_PATH"
   ]
  },
  {
   "cell_type": "markdown",
   "metadata": {},
   "source": [
    "Select whether to normalize the images within the [0, 1] range, and if you wish to use a fraction of the availbale data"
   ]
  },
  {
   "cell_type": "code",
   "execution_count": null,
   "metadata": {},
   "outputs": [],
   "source": [
    "normalize_images = True\n",
    "data_fraction = 0.1"
   ]
  },
  {
   "cell_type": "code",
   "execution_count": null,
   "metadata": {},
   "outputs": [],
   "source": [
    "serializer = DataSerializer(CONFIG) \n",
    "images_paths = serializer.get_images_path(IMG_DATA_PATH, sample_size=data_fraction)"
   ]
  },
  {
   "cell_type": "markdown",
   "metadata": {},
   "source": [
    "# Evaluate image dataset\n",
    "\n",
    "---"
   ]
  },
  {
   "cell_type": "markdown",
   "metadata": {},
   "source": [
    "### Calculate images statistics\n",
    "For every image in the dataset, we compute essential statistics such as average brightness, spread of pixel values (median, standard deviation, minimum, and maximum), and the range of pixel intensities. Additionally, the level of noise is estimated by comparing the original image with a slightly blurred version. All the gathered metrics, along with the image identifiers, are compiled into a structured table, which is then saved as a CSV file."
   ]
  },
  {
   "cell_type": "code",
   "execution_count": null,
   "metadata": {},
   "outputs": [],
   "source": [
    "analyzer = ImageAnalysis()\n",
    "image_statistics = analyzer.calculate_image_statistics(images_paths)"
   ]
  },
  {
   "cell_type": "markdown",
   "metadata": {},
   "source": [
    "### Pixel intensity\n",
    "\n",
    "The pixel intensity distribution of the entire image dataset is evaluated, plotting the histogram with the mean value of pixel intensity for all images"
   ]
  },
  {
   "cell_type": "code",
   "execution_count": null,
   "metadata": {},
   "outputs": [],
   "source": [
    "analyzer.calculate_pixel_intensity(images_paths)      "
   ]
  },
  {
   "cell_type": "markdown",
   "metadata": {},
   "source": [
    "## Compare train and validation datasets\n",
    "\n",
    "---"
   ]
  },
  {
   "cell_type": "code",
   "execution_count": null,
   "metadata": {},
   "outputs": [],
   "source": [
    "splitter = TrainValidationSplit(images_paths, CONFIG)     \n",
    "train_data, validation_data = splitter.split_train_and_validation()\n",
    "print(f'Number of train samples: {len(train_data)}')\n",
    "print(f'Number of validation samples: {len(validation_data)}')"
   ]
  },
  {
   "cell_type": "markdown",
   "metadata": {},
   "source": [
    "### Pixel intensity\n",
    "\n",
    "The pixel intensity distribution is now used to compare train and validation datasets, plotting the overlapping histograms with the mean value of pixel intensity for all images"
   ]
  },
  {
   "cell_type": "code",
   "execution_count": null,
   "metadata": {},
   "outputs": [],
   "source": []
  },
  {
   "cell_type": "code",
   "execution_count": null,
   "metadata": {},
   "outputs": [],
   "source": []
  }
 ],
 "metadata": {
  "kernelspec": {
   "display_name": "openkeras",
   "language": "python",
   "name": "python3"
  },
  "language_info": {
   "codemirror_mode": {
    "name": "ipython",
    "version": 3
   },
   "file_extension": ".py",
   "mimetype": "text/x-python",
   "name": "python",
   "nbconvert_exporter": "python",
   "pygments_lexer": "ipython3",
   "version": "3.12.8"
  }
 },
 "nbformat": 4,
 "nbformat_minor": 2
}
