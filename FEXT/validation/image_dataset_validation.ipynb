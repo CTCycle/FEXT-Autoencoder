{
 "cells": [
  {
   "cell_type": "code",
   "execution_count": 1,
   "metadata": {},
   "outputs": [],
   "source": [
    "import os\n",
    "import numpy as np\n",
    "import matplotlib.pyplot as plt\n",
    "from tqdm import tqdm\n",
    "\n",
    "# [SETTING WARNINGS]\n",
    "import warnings\n",
    "warnings.simplefilter(action='ignore', category=Warning)\n",
    "\n",
    "# import modules and components\n",
    "from FEXT.commons.utils.dataloader.serializer import DataSerializer, get_images_path\n",
    "from FEXT.commons.utils.process.splitting import DataSplit\n",
    "from FEXT.commons.constants import CONFIG, IMG_DATA_PATH, RESULTS_PATH"
   ]
  },
  {
   "cell_type": "code",
   "execution_count": null,
   "metadata": {},
   "outputs": [],
   "source": [
    "serializer = DataSerializer(CONFIG) \n",
    "images_paths = get_images_path(IMG_DATA_PATH, CONFIG, sample_size=None)\n",
    "images = [np.asarray(serializer.load_image(pt), dtype=np.float16) for pt in tqdm(images_paths)]"
   ]
  },
  {
   "cell_type": "markdown",
   "metadata": {},
   "source": [
    "# Evaluate image dataset\n",
    "\n",
    "---"
   ]
  },
  {
   "cell_type": "markdown",
   "metadata": {},
   "source": [
    "### Pixel intensity\n",
    "\n",
    "The pixel intensity distribution of the entire image dataset is evaluated, plotting the histogram with the mean value of pixel intensity for all images"
   ]
  },
  {
   "cell_type": "code",
   "execution_count": null,
   "metadata": {},
   "outputs": [],
   "source": [
    "pixel_intensities = np.concatenate([image.flatten() for image in tqdm(images)], dtype=np.float16)\n",
    "plt.figure(figsize=(16, 14)) \n",
    "plt.hist(pixel_intensities, bins='auto', alpha=0.7, color='blue', label='Dataset')\n",
    "plt.title('Pixel Intensity Histogram', fontsize=16)\n",
    "plt.xlabel('Pixel Intensity', fontsize=12)\n",
    "plt.ylabel('Frequency', fontsize=12)\n",
    "plt.legend()\n",
    "plt.tight_layout()        "
   ]
  },
  {
   "cell_type": "markdown",
   "metadata": {},
   "source": [
    "## Compare train and validation datasets\n",
    "\n",
    "---"
   ]
  },
  {
   "cell_type": "code",
   "execution_count": null,
   "metadata": {},
   "outputs": [],
   "source": [
    "splitter = DataSplit(images_paths, CONFIG)     \n",
    "train_data, validation_data = splitter.split_train_and_validation()\n",
    "print(f'Number of train samples: {len(train_data)}')\n",
    "print(f'Number of validation samples: {len(validation_data)}')\n",
    "\n",
    "train_images = [np.asarray(serializer.load_image(pt), dtype=np.float16) for pt in tqdm(train_data)] if train_data else []\n",
    "validation_images = [np.asarray(serializer.load_image(pt), dtype=np.float16) for pt in tqdm(validation_data)] if validation_data else []        \n",
    "datasets = {'train': train_images, 'validation': validation_images}"
   ]
  },
  {
   "cell_type": "markdown",
   "metadata": {},
   "source": [
    "### Pixel intensity\n",
    "\n",
    "The pixel intensity distribution is now used to compare train and validation datasets, plotting the overlapping histograms with the mean value of pixel intensity for all images"
   ]
  },
  {
   "cell_type": "code",
   "execution_count": null,
   "metadata": {},
   "outputs": [],
   "source": [
    "plt.figure(figsize=(16, 14)) \n",
    "for name, image_set in datasets.items():    \n",
    "    pixel_intensities = np.concatenate([image.flatten() for image in tqdm(image_set)], dtype=np.float16)\n",
    "    plt.hist(pixel_intensities, bins='auto', alpha=0.5, label=name)\n",
    "plt.title('Pixel Intensity Histogram', fontsize=16)\n",
    "plt.xlabel('Pixel Intensity', fontsize=12)\n",
    "plt.ylabel('Frequency', fontsize=12)\n",
    "plt.legend()\n",
    "plt.tight_layout()     "
   ]
  }
 ],
 "metadata": {
  "kernelspec": {
   "display_name": "openkeras",
   "language": "python",
   "name": "python3"
  },
  "language_info": {
   "codemirror_mode": {
    "name": "ipython",
    "version": 3
   },
   "file_extension": ".py",
   "mimetype": "text/x-python",
   "name": "python",
   "nbconvert_exporter": "python",
   "pygments_lexer": "ipython3",
   "version": "3.11.11"
  }
 },
 "nbformat": 4,
 "nbformat_minor": 2
}
