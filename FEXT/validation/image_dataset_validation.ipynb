{
 "cells": [
  {
   "cell_type": "code",
   "execution_count": null,
   "metadata": {},
   "outputs": [],
   "source": [
    "# [SETTING WARNINGS]\n",
    "import warnings\n",
    "warnings.simplefilter(action='ignore', category=Warning)\n",
    "\n",
    "# import modules and components\n",
    "from FEXT.commons.utils.dataloader.serializer import get_images_path\n",
    "from FEXT.commons.utils.validation.images import ImageDatasetValidation\n",
    "from FEXT.commons.utils.process.splitting import DataSplit\n",
    "from FEXT.commons.constants import CONFIG, IMG_DATA_PATH"
   ]
  },
  {
   "cell_type": "markdown",
   "metadata": {},
   "source": [
    "# Load and prepare data"
   ]
  },
  {
   "cell_type": "code",
   "execution_count": null,
   "metadata": {},
   "outputs": [],
   "source": [
    "images_paths = get_images_path(IMG_DATA_PATH, CONFIG, sample_size=None)\n",
    "splitter = DataSplit(images_paths, CONFIG)     \n",
    "train_data, validation_data = splitter.split_train_and_validation()\n",
    "print(f'Number of train samples: {len(train_data)}')\n",
    "print(f'Number of validation samples: {len(validation_data)}')"
   ]
  },
  {
   "cell_type": "markdown",
   "metadata": {},
   "source": [
    "# 1. Data evaluation"
   ]
  },
  {
   "cell_type": "markdown",
   "metadata": {},
   "source": [
    "### 1.1 Pixel intensity "
   ]
  },
  {
   "cell_type": "code",
   "execution_count": null,
   "metadata": {},
   "outputs": [],
   "source": [
    "validator = ImageDatasetValidation(train_data, validation_data, CONFIG)\n",
    "validator.pixel_intensity_histogram()"
   ]
  }
 ],
 "metadata": {
  "kernelspec": {
   "display_name": "openkeras",
   "language": "python",
   "name": "python3"
  },
  "language_info": {
   "codemirror_mode": {
    "name": "ipython",
    "version": 3
   },
   "file_extension": ".py",
   "mimetype": "text/x-python",
   "name": "python",
   "nbconvert_exporter": "python",
   "pygments_lexer": "ipython3",
   "version": "3.11.10"
  }
 },
 "nbformat": 4,
 "nbformat_minor": 2
}
