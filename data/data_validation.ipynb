{
 "cells": [
  {
   "cell_type": "code",
   "execution_count": null,
   "metadata": {},
   "outputs": [],
   "source": [
    "import os\n",
    "import sys\n",
    "import pandas as pd\n",
    "\n",
    "# setting warnings\n",
    "import warnings\n",
    "warnings.simplefilter(action='ignore', category = Warning)\n",
    "\n",
    "# add parent folder path to the namespace\n",
    "sys.path.append(os.path.dirname(os.getcwd()))\n",
    "\n",
    "# import modules and components\n",
    "from utils.preprocessing import load_images\n",
    "from utils.validation import DataValidation\n",
    "import utils.global_paths as globpt\n",
    "import configurations as cnf\n",
    "\n",
    "# specify relative paths from global paths and create subfolders\n",
    "images_path = os.path.join(globpt.data_path, 'images') \n",
    "val_path = os.path.join(globpt.data_path, 'validation')\n",
    "os.mkdir(images_path) if not os.path.exists(images_path) else None\n",
    "os.mkdir(val_path) if not os.path.exists(val_path) else None  "
   ]
  },
  {
   "cell_type": "markdown",
   "metadata": {},
   "source": [
    "# Load and prepare data"
   ]
  },
  {
   "cell_type": "code",
   "execution_count": null,
   "metadata": {},
   "outputs": [],
   "source": [
    "\n",
    "validator = DataValidation()\n",
    "\n",
    "# find and assign images path\n",
    "images_paths = []\n",
    "for root, dirs, files in os.walk(images_path):\n",
    "    for file in files:\n",
    "        images_paths.append(os.path.join(root, file))\n",
    "\n",
    "# select a fraction of data for training\n",
    "total_samples = cnf.num_train_samples + cnf.num_test_samples\n",
    "df_images = pd.DataFrame(images_paths, columns=['images path'])\n",
    "df_images = df_images.sample(total_samples, random_state=cnf.seed)\n",
    "\n",
    "# create train and test datasets (for validation)\n",
    "test_data = df_images.sample(n=cnf.num_test_samples, random_state=cnf.split_seed)\n",
    "train_data = df_images.drop(test_data.index)\n"
   ]
  },
  {
   "cell_type": "markdown",
   "metadata": {},
   "source": [
    "# 1. Data evaluation"
   ]
  },
  {
   "cell_type": "markdown",
   "metadata": {},
   "source": [
    "## 1.1 Evaluation report"
   ]
  },
  {
   "cell_type": "code",
   "execution_count": null,
   "metadata": {},
   "outputs": [],
   "source": [
    "print(f'Number of train samples: {train_data.shape[0]}')\n",
    "print(f'Number of test samples:  {test_data.shape[0]}')"
   ]
  },
  {
   "cell_type": "markdown",
   "metadata": {},
   "source": [
    "## 1.1 Pixel intensity "
   ]
  },
  {
   "cell_type": "code",
   "execution_count": null,
   "metadata": {},
   "outputs": [],
   "source": [
    "plot_properties = {'figsize': (10, 8),  \n",
    "                   'fontsize_title': 16,  \n",
    "                   'fontsize_labels': 12,  \n",
    "                   'fontsize_ticks': 10,  \n",
    "                   'xlabel': 'Feature', \n",
    "                   'ylabel': 'Value',\n",
    "                   'orientation' : 'h',  \n",
    "                   'xticks_rotation': 45,  \n",
    "                   'xticks_ha': 'right',  \n",
    "                   'xticks_va': 'center', \n",
    "                   'title': 'Pixel Intensity Histograms',  \n",
    "                   'palette': 'viridis',\n",
    "                   'color' : 'skyblue',  \n",
    "                   'grid': True,                   \n",
    "                   'legend': True,  \n",
    "                   'legend_loc': 'best',\n",
    "                   'filename' : 'pixel_intensities.jpeg'} \n",
    "\n",
    "# load train and test images as numpy arrays\n",
    "train_images = load_images(train_data['images path'], cnf.picture_shape[:-1], \n",
    "                                        as_tensor=False,  normalize=False)\n",
    "test_images = load_images(test_data['images path'], cnf.picture_shape[:-1], \n",
    "                                       as_tensor=False, normalize=False)\n",
    "\n",
    "# validate pixel intensity histograms for both datasets\n",
    "validator.pixel_intensity_histograms(train_images, test_images, val_path,\n",
    "                                     names=['Train', 'Test'])\n"
   ]
  }
 ],
 "metadata": {
  "kernelspec": {
   "display_name": "Aquarius",
   "language": "python",
   "name": "python3"
  },
  "language_info": {
   "codemirror_mode": {
    "name": "ipython",
    "version": 3
   },
   "file_extension": ".py",
   "mimetype": "text/x-python",
   "name": "python",
   "nbconvert_exporter": "python",
   "pygments_lexer": "ipython3",
   "version": "3.10.13"
  }
 },
 "nbformat": 4,
 "nbformat_minor": 2
}
