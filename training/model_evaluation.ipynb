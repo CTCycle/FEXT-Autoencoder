{
 "cells": [
  {
   "cell_type": "code",
   "execution_count": null,
   "metadata": {},
   "outputs": [],
   "source": [
    "import os\n",
    "import sys\n",
    "import pandas as pd\n",
    "\n",
    "# setting warnings\n",
    "import warnings\n",
    "warnings.simplefilter(action='ignore', category = Warning)\n",
    "\n",
    "# add parent folder path to the namespace\n",
    "sys.path.append(os.path.dirname(os.getcwd()))\n",
    "\n",
    "# import modules and components\n",
    "from utils.data_assets import DataGenerator, TensorDataSet\n",
    "from utils.model_assets import ModelValidation, Inference\n",
    "import utils.global_paths as globpt\n",
    "import configurations as cnf\n",
    "\n",
    "# specify relative paths from global paths and create subfolders\n",
    "cp_path = os.path.join(globpt.train_path, 'checkpoints')\n",
    "os.mkdir(cp_path) if not os.path.exists(cp_path) else None"
   ]
  },
  {
   "cell_type": "markdown",
   "metadata": {},
   "source": [
    "# Load and prepare data"
   ]
  },
  {
   "cell_type": "code",
   "execution_count": null,
   "metadata": {},
   "outputs": [],
   "source": [
    "# load the model for inference and print summary\n",
    "inference = Inference(cnf.seed) \n",
    "model, parameters = inference.load_pretrained_model(cp_path)\n",
    "model_path = inference.folder_path\n",
    "model.summary(expand_nested=True)\n",
    "\n",
    "# load data\n",
    "filepath = os.path.join(model_path, 'preprocessing', 'train_data.csv')                \n",
    "train_data = pd.read_csv(filepath, sep=';', encoding='utf-8')\n",
    "filepath = os.path.join(model_path, 'preprocessing', 'test_data.csv')                \n",
    "test_data = pd.read_csv(filepath, sep=';', encoding='utf-8')\n",
    "\n",
    "# initialize the images generator for the train and test data, and create the \n",
    "# tf.dataset according to batch shapes\n",
    "train_generator = DataGenerator(train_data, 20, cnf.picture_shape, \n",
    "                                augmentation=False, shuffle=True)\n",
    "test_generator = DataGenerator(test_data, 20, cnf.picture_shape, \n",
    "                               augmentation=False, shuffle=True)\n",
    "\n",
    "# initialize the TensorDataSet class with the generator instances\n",
    "# create the tf.datasets using the previously initialized generators \n",
    "datamaker = TensorDataSet()\n",
    "train_dataset = datamaker.create_tf_dataset(train_generator)\n",
    "test_dataset = datamaker.create_tf_dataset(test_generator)"
   ]
  },
  {
   "cell_type": "markdown",
   "metadata": {},
   "source": [
    "# 1. Model validation"
   ]
  },
  {
   "cell_type": "markdown",
   "metadata": {},
   "source": [
    "## 1.1 Evaluate model loss and accuracy"
   ]
  },
  {
   "cell_type": "code",
   "execution_count": null,
   "metadata": {},
   "outputs": [],
   "source": [
    "validator = ModelValidation(model)\n",
    "\n",
    "# create subfolder for evaluation data\n",
    "eval_path = os.path.join(model_path, 'evaluation') \n",
    "os.mkdir(eval_path) if not os.path.exists(eval_path) else None\n",
    "\n",
    "# evluate the model on both the train and test dataset\n",
    "train_eval = model.evaluate(train_dataset, batch_size=20, verbose=1)\n",
    "test_eval = model.evaluate(test_dataset, batch_size=20, verbose=1)\n",
    "\n",
    "print(f'''  \n",
    "Train dataset:\n",
    "- Loss:   {train_eval[0]}\n",
    "- Metric: {train_eval[1]} \n",
    "\n",
    "Test dataset:\n",
    "- Loss:   {test_eval[0]}\n",
    "- Metric: {test_eval[1]}        \n",
    "''')"
   ]
  },
  {
   "cell_type": "markdown",
   "metadata": {},
   "source": [
    "## 1.2 Visual validation "
   ]
  },
  {
   "cell_type": "code",
   "execution_count": null,
   "metadata": {},
   "outputs": [],
   "source": [
    "# perform visual validation for the train dataset (initialize a validation tf.dataset\n",
    "# with batch size of 10 images)\n",
    "validation_batch = train_dataset.unbatch().batch(10).take(1)\n",
    "for images, labels in validation_batch:\n",
    "    recostructed_images = model.predict(images, verbose=0)\n",
    "    validator.visual_validation(images, recostructed_images, 'visual_validation_train', \n",
    "                                eval_path)\n",
    "\n",
    "# perform visual validation for the test dataset (initialize a validation tf.dataset\n",
    "# with batch size of 10 images)\n",
    "validation_batch = test_dataset.unbatch().batch(10).take(1)\n",
    "for images, labels in validation_batch:\n",
    "    recostructed_images = model.predict(images, verbose=0) \n",
    "    validator.visual_validation(images, recostructed_images, 'visual_validation_test',\n",
    "                                eval_path)"
   ]
  }
 ],
 "metadata": {
  "kernelspec": {
   "display_name": "Aquarius",
   "language": "python",
   "name": "python3"
  },
  "language_info": {
   "codemirror_mode": {
    "name": "ipython",
    "version": 3
   },
   "file_extension": ".py",
   "mimetype": "text/x-python",
   "name": "python",
   "nbconvert_exporter": "python",
   "pygments_lexer": "ipython3",
   "version": "3.10.13"
  }
 },
 "nbformat": 4,
 "nbformat_minor": 2
}
