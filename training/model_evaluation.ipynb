{
 "cells": [
  {
   "cell_type": "code",
   "execution_count": null,
   "metadata": {},
   "outputs": [],
   "source": [
    "import os\n",
    "import sys\n",
    "import pandas as pd\n",
    "import tensorflow as tf\n",
    "from tensorflow import keras\n",
    "\n",
    "# set warnings\n",
    "import warnings\n",
    "warnings.simplefilter(action='ignore', category = Warning)\n",
    "\n",
    "# add parent folder path to the namespace\n",
    "sys.path.append(os.path.dirname(os.getcwd()))\n",
    "\n",
    "# import modules and components\n",
    "from utils.preprocessing import dataset_from_images\n",
    "from utils.generators import DataGenerator, TensorDataSet\n",
    "from utils.validation import ModelValidation\n",
    "from utils.models import Inference\n",
    "import utils.global_paths as globpt\n",
    "import configurations as cnf\n",
    "\n",
    "# specify relative paths from global paths and create subfolders\n",
    "images_path = os.path.join(globpt.data_path, 'images')\n",
    "cp_path = os.path.join(globpt.train_path, 'checkpoints')\n",
    "os.mkdir(images_path) if not os.path.exists(images_path) else None\n",
    "os.mkdir(cp_path) if not os.path.exists(cp_path) else None"
   ]
  },
  {
   "cell_type": "markdown",
   "metadata": {},
   "source": [
    "# 1. Load data and model"
   ]
  },
  {
   "cell_type": "code",
   "execution_count": null,
   "metadata": {},
   "outputs": [],
   "source": [
    "inference = Inference(cnf.seed) \n",
    "\n",
    "# load the model for inference and print summary\n",
    "model, parameters = inference.load_pretrained_model(cp_path)\n",
    "model_path = inference.folder_path\n",
    "model.summary(expand_nested=True)\n",
    "\n",
    "# load and reprocess data\n",
    "filepath = os.path.join(model_path, 'preprocessing', 'train_data.csv')                \n",
    "train_data = pd.read_csv(filepath, sep=';', encoding='utf-8')\n",
    "filepath = os.path.join(model_path, 'preprocessing', 'test_data.csv')                \n",
    "test_data = pd.read_csv(filepath, sep=';', encoding='utf-8')"
   ]
  },
  {
   "cell_type": "markdown",
   "metadata": {},
   "source": [
    "### 1.1 Create generator and datasets"
   ]
  },
  {
   "cell_type": "code",
   "execution_count": null,
   "metadata": {},
   "outputs": [],
   "source": [
    "# regenerate paths\n",
    "train_data = dataset_from_images(images_path, dataset=train_data)\n",
    "test_data = dataset_from_images(images_path, dataset=test_data)\n",
    "\n",
    "# initialize the images generator for the train and test data, and create the \n",
    "# tf.dataset according to batch shapes\n",
    "train_generator = DataGenerator(train_data, 20, cnf.picture_shape, \n",
    "                                augmentation=False, shuffle=True)\n",
    "test_generator = DataGenerator(test_data, 20, cnf.picture_shape, \n",
    "                               augmentation=False, shuffle=True)\n",
    "\n",
    "# initialize the TensorDataSet class with the generator instances\n",
    "# create the tf.datasets using the previously initialized generators \n",
    "datamaker = TensorDataSet()\n",
    "train_dataset = datamaker.create_tf_dataset(train_generator)\n",
    "test_dataset = datamaker.create_tf_dataset(test_generator)"
   ]
  },
  {
   "cell_type": "markdown",
   "metadata": {},
   "source": [
    "# 2. Model performance evaluation"
   ]
  },
  {
   "cell_type": "markdown",
   "metadata": {},
   "source": [
    "### 2.1 Evaluation of loss and metrics"
   ]
  },
  {
   "cell_type": "code",
   "execution_count": null,
   "metadata": {},
   "outputs": [],
   "source": [
    "validator = ModelValidation(model)\n",
    "\n",
    "# create subfolder for evaluation data\n",
    "eval_path = os.path.join(model_path, 'evaluation') \n",
    "os.mkdir(eval_path) if not os.path.exists(eval_path) else None\n",
    "\n",
    "# evluate the model on both the train and test dataset\n",
    "train_eval = model.evaluate(train_dataset, batch_size=25, verbose=1)\n",
    "test_eval = model.evaluate(test_dataset, batch_size=25, verbose=1)\n",
    "\n",
    "print('\\nTrain dataset:')\n",
    "print(f'Loss: {train_eval[0]}')    \n",
    "print(f'Metric: {train_eval[1]}')  \n",
    "print('\\nTest dataset:')\n",
    "print(f'Loss: {test_eval[0]}')    \n",
    "print(f'Metric: {test_eval[1]}') "
   ]
  },
  {
   "cell_type": "markdown",
   "metadata": {},
   "source": [
    "### 2.2 Reconstruction evaluation\n",
    "\n",
    "Compare reconstructed images to original pictures to qualitatively evaluate the performance of the FeXT autoencoder model"
   ]
  },
  {
   "cell_type": "code",
   "execution_count": null,
   "metadata": {},
   "outputs": [],
   "source": [
    "# perform visual validation for the train dataset (initialize a validation tf.dataset\n",
    "# with batch size of 10 images)\n",
    "print('Visual reconstruction validation: train dataset\\n')\n",
    "plot_name = 'visual_validation_train'\n",
    "validation_batch = train_dataset.unbatch().batch(10).take(1)\n",
    "for images, labels in validation_batch:\n",
    "    recostructed_images = model.predict(images, verbose=0)\n",
    "    validator.visualize_reconstructed_images(images, recostructed_images, plot_name, eval_path)\n",
    "\n",
    "# perform visual validation for the test dataset (initialize a validation tf.dataset\n",
    "# with batch size of 10 images)\n",
    "print('Visual reconstruction validation: test dataset\\n')\n",
    "plot_name = 'visual_validation_test'\n",
    "validation_batch = test_dataset.unbatch().batch(10).take(1)\n",
    "for images, labels in validation_batch:\n",
    "    recostructed_images = model.predict(images, verbose=0) \n",
    "    validator.visualize_reconstructed_images(images, recostructed_images, plot_name, eval_path)"
   ]
  },
  {
   "cell_type": "markdown",
   "metadata": {},
   "source": [
    "Visualize the original image and the reconstructed images, together with the corresponding features vector. The raw vector has shape 8x8x512 and is reshaped to be 64x512"
   ]
  },
  {
   "cell_type": "code",
   "execution_count": null,
   "metadata": {},
   "outputs": [],
   "source": [
    "single_image_batch = train_dataset.unbatch().batch(1).take(1)\n",
    "\n",
    "# isolate the encoder from the autoencoder model\n",
    "encoder_input = model.get_layer('input_1')  \n",
    "encoder_output = model.get_layer('fe_xt_encoder')  \n",
    "encoder_model = keras.Model(inputs=encoder_input.input, outputs=encoder_output.output)\n",
    "\n",
    "# extract features vector\n",
    "recostructed_image = model.predict(single_image_batch, verbose=0) \n",
    "extracted_features = encoder_model.predict(single_image_batch, verbose=0)\n",
    "reshaped_features = extracted_features.reshape(64, 512)\n",
    "\n",
    "plot_name = 'visual_features_vector'\n",
    "for original_image, label in single_image_batch:\n",
    "    validator.visualize_features_vector(original_image, reshaped_features, recostructed_image,\n",
    "                                        plot_name , eval_path)"
   ]
  }
 ],
 "metadata": {
  "kernelspec": {
   "display_name": "Aquarius",
   "language": "python",
   "name": "python3"
  },
  "language_info": {
   "codemirror_mode": {
    "name": "ipython",
    "version": 3
   },
   "file_extension": ".py",
   "mimetype": "text/x-python",
   "name": "python",
   "nbconvert_exporter": "python",
   "pygments_lexer": "ipython3",
   "version": "3.10.13"
  }
 },
 "nbformat": 4,
 "nbformat_minor": 2
}
